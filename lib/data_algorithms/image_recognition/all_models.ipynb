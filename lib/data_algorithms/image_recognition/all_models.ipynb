{
 "cells": [
  {
   "cell_type": "code",
   "execution_count": 7,
   "metadata": {},
   "outputs": [],
   "source": [
    "import numpy as np\n",
    "import pandas as pd\n",
    "import matplotlib\n",
    "import cv2 as cv\n",
    "import tensorflow as tf\n",
    "from tensorflow import keras, cast\n",
    "import matplotlib.pyplot as plt\n",
    "import math"
   ]
  },
  {
   "cell_type": "code",
   "execution_count": 8,
   "metadata": {},
   "outputs": [],
   "source": [
    "bedroom_cnn = tf.keras.models.load_model('bedroom/bedroom.h5')\n",
    "bathroom_cnn = tf.keras.models.load_model('bathroom/bathroom.h5')\n",
    "dining_cnn = tf.keras.models.load_model('dining/dining.h5')\n",
    "living_cnn = tf.keras.models.load_model('living/livingroom.h5')\n",
    "kitchen_cnn = tf.keras.models.load_model('kitchen/kitchen.h5')"
   ]
  },
  {
   "cell_type": "code",
   "execution_count": null,
   "metadata": {},
   "outputs": [],
   "source": []
  }
 ],
 "metadata": {
  "kernelspec": {
   "display_name": "Python 3.8.13 ('mlp')",
   "language": "python",
   "name": "python3"
  },
  "language_info": {
   "codemirror_mode": {
    "name": "ipython",
    "version": 3
   },
   "file_extension": ".py",
   "mimetype": "text/x-python",
   "name": "python",
   "nbconvert_exporter": "python",
   "pygments_lexer": "ipython3",
   "version": "3.8.13"
  },
  "orig_nbformat": 4,
  "vscode": {
   "interpreter": {
    "hash": "265814ecd48f9fdf240ce5d203eec8d5b582a5b97314c5d68dd1e3d8051f8511"
   }
  }
 },
 "nbformat": 4,
 "nbformat_minor": 2
}
